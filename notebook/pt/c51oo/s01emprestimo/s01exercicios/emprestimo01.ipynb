{
 "cells": [
  {
   "cell_type": "markdown",
   "metadata": {},
   "source": [
    "# Memória, Variáveis, Comunicação e Estado de um Programa\n",
    "\n",
    "Há várias possíveis estratégias para usar a memória de um computador para se realizar a comunicação entre partes dele -- por exemplo, entre duas funções -- e para se manter o **estado atual** de execução de um programa. Dentre elas, podemos destacar o uso de variáveis locais, globais e parâmetros entre funções.\n",
    "\n",
    "Vamos fazer aqui um exercício nesse contexto e você será conduzido a experimentar cada uma dessas estratégias, mesmo que em algumas ocasiões não seja a forma recomendada de se desenvolver um programa.\n",
    "\n",
    "\n",
    "# Exercício do Empréstimo\n",
    "\n",
    "Em um financiamento com juros compostos e número de parcelas fixas parte-se dos seguintes parâmetros:\n",
    "* `S` - valor da primeira parcela\n",
    "* `N` - número de parcelas\n",
    "* `J` - percentual de juros mensal\n",
    "\n",
    "A primeira parcela a ser paga do financiamento é sempre igual a `S`. A partir daí é feita uma atualização mensal da parcela, em que cada nova parcela é calculada a partir da parcela do mês anterior, conforme a fórmula:\n",
    "\n",
    "> #### Parcela<sub>mês</sub> = Parcela<sub>mês-1</sub> * (1 + `J` / 100)\n",
    "\n",
    "O financiamento encerra quando as `N` parcelas são pagas.\n",
    "\n",
    "Exemplo:\n",
    "* `S`: 200\n",
    "* `N`: 5\n",
    "* `J`: 1%\n",
    "\n",
    "Parcelas do financiamento:\n",
    "`200`; `202`; `204.02`; `206.06`; `208.12`"
   ]
  },
  {
   "cell_type": "markdown",
   "metadata": {},
   "source": [
    "## Exercício Parte 1 - Escrevendo um Módulo\n",
    "\n",
    "Dado o problema descrito, escreva um programa que calcule as parcelas de um empréstimo para os seguintes valores:\n",
    "* `S`: 200\n",
    "* `N`: 5\n",
    "* `J`: 1%"
   ]
  },
  {
   "cell_type": "code",
   "execution_count": null,
   "metadata": {},
   "outputs": [],
   "source": []
  },
  {
   "cell_type": "markdown",
   "metadata": {},
   "source": [
    "## Exercício Parte 2 - Escrevendo um Módulo (Função)\n",
    "\n",
    "Reescreva o código acima de forma que seu programa faça uso de uma função `proximaParcela` que seja responsável pelo cálculo de uma única parcela X do empréstimo. Utilize as boas práticas de modularização que você aprendeu, evitando dependências do módulo com o programa principal. A função deve apenas calcular uma única parcela, portanto, ficará a cargo da função principal que chama `proximaParcela` realizar o restante do processo, para que sejam apresentadas todas as parcelas do financiamento."
   ]
  },
  {
   "cell_type": "code",
   "execution_count": null,
   "metadata": {},
   "outputs": [],
   "source": []
  },
  {
   "cell_type": "markdown",
   "metadata": {},
   "source": [
    "## Exercício Parte 3 - Mantendo o Estado\n",
    "\n",
    "Modifique a função (módulo) `proximaParcela` acima de modo que ela tenha uma memória da situação em que estão as coisas, sem que o `main` precise ficar informando novamente coisas que já informou no início. Para isso serão permitidas as seguintes modificações:\n",
    "\n",
    "1. você pode desmembrar a função em mais de uma, por exemplo, uma você chama no começo do empréstimo e outra a cada parcela;\n",
    "\n",
    "2. você pode usar técnicas de uso de variáveis não recomendadas que geram dependência dos módulos com o programa principal.\n",
    "\n",
    "Você deve organizar o código de tal maneira que o `main` informe para as funções os dados do financiamento apenas uma única vez e depois possa solicitar o cálculo da parcela subsequente sem informar tudo novamente."
   ]
  },
  {
   "cell_type": "code",
   "execution_count": null,
   "metadata": {},
   "outputs": [],
   "source": []
  },
  {
   "cell_type": "markdown",
   "metadata": {},
   "source": [
    "## Exercício Parte 4 - Minimizando os Parâmetros\n",
    "\n",
    "Retomando a solução da `Parte 2`, em que a função `main` deve ter usado vários parâmetros para a comunicação com a função `proximaParcela`,  modifique a forma como você representa o empréstimo, de forma que a função `proximaParcela` receba sempre um único parâmetro capaz de representar o estado completo do empréstimo."
   ]
  },
  {
   "cell_type": "code",
   "execution_count": null,
   "metadata": {},
   "outputs": [],
   "source": []
  },
  {
   "cell_type": "markdown",
   "metadata": {},
   "source": [
    "## Exercício Parte 5 - Múltiplos Empréstimos\n",
    "\n",
    "Considere que há múltiplos empréstimos que podem ser controlados em paralelo. A sua função `main` deve ser capaz de apresentar no console as parcelas de mais de um empréstimo de modo paralelo, mantendo um controle para cada empréstimo separadamente. Você deve decidir qual das soluções tomará como ponto de partida, se deve modificar a função `main`, a função `proximaParcela` ou ambas para atender esse requisito da melhor forma possível.\n",
    "\n",
    "Adote uma solução compacta e generalizável, de tal modo que, cada novo empréstimo só exija a informação dos parâmetros de partida, sem expansão do código.\n",
    "\n",
    "Por exemplo, suponha os seguintes dois empréstimos em paralelo:\n",
    "\n",
    "### Empréstimo 1\n",
    "* `S`: 200\n",
    "* `N`: 5\n",
    "* `J`: 1%\n",
    "\n",
    "### Empréstimo 2\n",
    "* `S`: 500\n",
    "* `N`: 7\n",
    "* `J`: 2%\n",
    "\n",
    "A saída esperada é:\n",
    "~~~\n",
    "Emprestimo 1: parcela 1 eh 200.00\n",
    "Emprestimo 2: parcela 1 eh 500.00\n",
    "Emprestimo 1: parcela 2 eh 202.00\n",
    "Emprestimo 2: parcela 2 eh 510.00\n",
    "Emprestimo 1: parcela 3 eh 204.02\n",
    "Emprestimo 2: parcela 3 eh 520.20\n",
    "Emprestimo 1: parcela 4 eh 206.06\n",
    "Emprestimo 2: parcela 4 eh 530.60\n",
    "Emprestimo 1: parcela 5 eh 208.12\n",
    "Emprestimo 2: parcela 5 eh 541.22\n",
    "Emprestimo 2: parcela 6 eh 552.04\n",
    "Emprestimo 2: parcela 7 eh 563.08\n",
    "~~~\n",
    "\n",
    "O exemplo mostra dois empréstimos, mas a estrutura deve ser genérica o suficiente para controlar N empréstimos em paralelo."
   ]
  },
  {
   "cell_type": "code",
   "execution_count": null,
   "metadata": {},
   "outputs": [],
   "source": []
  }
 ],
 "metadata": {
  "kernelspec": {
   "display_name": "C",
   "language": "c",
   "name": "c"
  },
  "language_info": {
   "file_extension": ".c",
   "mimetype": "text/plain",
   "name": "c"
  }
 },
 "nbformat": 4,
 "nbformat_minor": 4
}
